{
  "cells": [
    {
      "cell_type": "code",
      "execution_count": 7,
      "metadata": {
        "colab": {
          "base_uri": "https://localhost:8080/",
          "height": 1000
        },
        "id": "nv0hVxUdKDog",
        "outputId": "df823493-c4ef-4d26-cd5d-5737a970fbc3"
      },
      "outputs": [],
      "source": [
        "import numpy as np\n",
        "import matplotlib.pyplot as plt\n",
        "import pandas\n",
        "from sklearn.metrics import mutual_info_score\n",
        "\n",
        "# discretizes a time series into bins\n",
        "def discretize_time_series(series, bins):\n",
        "    discretized_series = np.digitize(series, np.linspace(min(series), max(series), bins + 1)) - 1\n",
        "    return discretized_series\n",
        "\n",
        "# calculates shannon entropy\n",
        "def shannon_entropy(series):\n",
        "    _, counts = np.unique(series, return_counts=True)\n",
        "    probabilities = counts / counts.sum()\n",
        "    entropy = -np.sum(probabilities * np.log2(probabilities))\n",
        "    return entropy\n",
        "\n",
        "# get simcov data \n",
        "stats_file = 'simcov-gen85.stats'\n",
        "simcov_data = pandas.read_csv(stats_file, sep='\\t', skiprows=1)\n",
        "simcov_data.columns = ['time', 'incb', 'expr', 'apop', 'dead', 'tvas', 'ttis', 'chem', 'virs', 'chempts', '%infct']\n",
        "\n",
        "expressing_cells = simcov_data['expr'].values\n",
        "t_cells = simcov_data['ttis'].values\n",
        "\n",
        "# discretize simcov data\n",
        "bins = 80 # 86400 time steps, rice's rule gives 88.41, but 86400 is evenly divisible by 80 bins.\n",
        "discretized_expressing_cells = discretize_time_series(expressing_cells, bins)\n",
        "discretized_t_cells = discretize_time_series(t_cells, bins)\n",
        "\n",
        "# calculate table 2 (simcov data) shannon entropy and MI\n",
        "H_expressing_cells = shannon_entropy(discretized_expressing_cells)\n",
        "H_t_cells = shannon_entropy(discretized_t_cells)\n",
        "MI_expressing_t_cells = mutual_info_score(discretized_expressing_cells, discretized_t_cells)\n",
        "\n",
        "# save table values to file\n",
        "with open(f'timeseries/simcovtableentries.txt', 'w') as file:\n",
        "        file.write(f\"Results for {stats_file}:\\n\")\n",
        "        file.write(f\"H(Expressing Cells):              {H_expressing_cells}\\n\")\n",
        "        file.write(f\"H(T-Cells):                       {H_t_cells}\\n\")\n",
        "        file.write(f\"MI(Expressing Cells and T-Cells): {MI_expressing_t_cells}\\n\")"
      ]
    },
    {
      "cell_type": "code",
      "execution_count": null,
      "metadata": {},
      "outputs": [],
      "source": [
        "\n"
      ]
    }
  ],
  "metadata": {
    "colab": {
      "provenance": []
    },
    "kernelspec": {
      "display_name": "Python 3",
      "name": "python3"
    },
    "language_info": {
      "codemirror_mode": {
        "name": "ipython",
        "version": 3
      },
      "file_extension": ".py",
      "mimetype": "text/x-python",
      "name": "python",
      "nbconvert_exporter": "python",
      "pygments_lexer": "ipython3",
      "version": "3.11.5"
    }
  },
  "nbformat": 4,
  "nbformat_minor": 0
}
